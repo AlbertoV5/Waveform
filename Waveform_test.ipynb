{
  "nbformat": 4,
  "nbformat_minor": 0,
  "metadata": {
    "colab": {
      "name": "Waveform test",
      "provenance": [],
      "toc_visible": true,
      "authorship_tag": "ABX9TyPKTJSGMtmP6yjjlfifgEh5",
      "include_colab_link": true
    },
    "kernelspec": {
      "name": "python3",
      "display_name": "Python 3"
    }
  },
  "cells": [
    {
      "cell_type": "markdown",
      "metadata": {
        "id": "view-in-github",
        "colab_type": "text"
      },
      "source": [
        "<a href=\"https://colab.research.google.com/github/AlbertoV5/Waveform/blob/master/Waveform_test.ipynb\" target=\"_parent\"><img src=\"https://colab.research.google.com/assets/colab-badge.svg\" alt=\"Open In Colab\"/></a>"
      ]
    },
    {
      "cell_type": "code",
      "metadata": {
        "id": "HaNYRnQFk0y3",
        "colab_type": "code",
        "colab": {
          "base_uri": "https://localhost:8080/",
          "height": 127
        },
        "outputId": "61c2dd17-82bc-4c5d-e37e-c53f630d3908"
      },
      "source": [
        "from google.colab import drive\n",
        "drive.mount('/content/gdrive')\n"
      ],
      "execution_count": null,
      "outputs": [
        {
          "output_type": "stream",
          "text": [
            "Go to this URL in a browser: https://accounts.google.com/o/oauth2/auth?client_id=947318989803-6bn6qk8qdgf4n4g3pfee6491hc0brc4i.apps.googleusercontent.com&redirect_uri=urn%3aietf%3awg%3aoauth%3a2.0%3aoob&response_type=code&scope=email%20https%3a%2f%2fwww.googleapis.com%2fauth%2fdocs.test%20https%3a%2f%2fwww.googleapis.com%2fauth%2fdrive%20https%3a%2f%2fwww.googleapis.com%2fauth%2fdrive.photos.readonly%20https%3a%2f%2fwww.googleapis.com%2fauth%2fpeopleapi.readonly\n",
            "\n",
            "Enter your authorization code:\n",
            "··········\n",
            "Mounted at /content/gdrive\n"
          ],
          "name": "stdout"
        }
      ]
    },
    {
      "cell_type": "code",
      "metadata": {
        "id": "5Pn3fGTnmVN6",
        "colab_type": "code",
        "colab": {
          "base_uri": "https://localhost:8080/",
          "height": 144
        },
        "outputId": "1e393f59-ea8e-4225-9ed5-9c9071eb0b03"
      },
      "source": [
        "!pip install pydub"
      ],
      "execution_count": null,
      "outputs": [
        {
          "output_type": "stream",
          "text": [
            "Collecting pydub\n",
            "  Downloading https://files.pythonhosted.org/packages/7b/d1/fbfa79371a8cd9bb15c2e3c480d7e6e340ed5cc55005174e16f48418333a/pydub-0.24.1-py2.py3-none-any.whl\n",
            "Installing collected packages: pydub\n",
            "Successfully installed pydub-0.24.1\n"
          ],
          "name": "stdout"
        }
      ]
    },
    {
      "cell_type": "code",
      "metadata": {
        "id": "cuV0-_jEmeWY",
        "colab_type": "code",
        "colab": {
          "base_uri": "https://localhost:8080/",
          "height": 765
        },
        "outputId": "563959ea-1382-4f70-a5ef-1d160cb17394"
      },
      "source": [
        "!python _master.py"
      ],
      "execution_count": 1,
      "outputs": [
        {
          "output_type": "stream",
          "text": [
            "Drag and drop your song:\n",
            "\n",
            "spectre.wav\n",
            "Reading audio file...\n",
            "\n",
            "Audio file was read.\n",
            "spectre.wav\n",
            "Press 1 if your song has no fade-in, Press 2 if the fade-in is quiet. Press 3 if the fade-in is loud.\n",
            "3\n",
            "Alpha peak is at: 12.391 seconds.\n",
            "Press 1 to get a list of suggested BPMs. Press any other key to skip:\n",
            "1\n",
            "RMS is: -13.427667899417663 dB\n",
            "Suggested ratio is: 0.860128459381066\n",
            "\n",
            "Calculating Possible BPMs...\n",
            "Alpha peak is at: 12.384 seconds.\n",
            "Ratio: 0.8601 = Threshold: 219.86087472379276\n",
            "\n",
            "Calculated possible BPMs:\n",
            "[128.0, 192.0, 110.47, 165.70499999999998]\n",
            "Enter selected BPM: \n",
            "128\n",
            "Enter how many beats are in a bar: \n",
            "4\n",
            "Song duration in bars: 103\n",
            "\n",
            "Obtaining Melody...\n",
            "<Figure size 5000x1000 with 1 Axes>\n",
            "Done.\n",
            "\n",
            "Obtaining Snare...\n",
            "<Figure size 5000x1000 with 1 Axes>\n",
            "Done.\n",
            "\n",
            "Obtaining Bass...\n",
            "<Figure size 5000x1000 with 1 Axes>\n",
            "Done.\n",
            "\n",
            "Obtaining HiHats...\n",
            "<Figure size 5000x1000 with 1 Axes>\n",
            "Done.\n"
          ],
          "name": "stdout"
        }
      ]
    }
  ]
}